{
 "cells": [
  {
   "cell_type": "code",
   "execution_count": 1,
   "metadata": {
    "_cell_guid": "b1076dfc-b9ad-4769-8c92-a6c4dae69d19",
    "_uuid": "8f2839f25d086af736a60e9eeb907d3b93b6e0e5",
    "colab": {},
    "colab_type": "code",
    "id": "U2D2gTdJVp90"
   },
   "outputs": [],
   "source": [
    "import numpy as np\n",
    "import pandas as pd\n",
    "import seaborn as sns\n",
    "import matplotlib.pyplot as plt\n",
    "from collections import Counter\n",
    "from datetime import datetime\n",
    "from itertools import combinations"
   ]
  },
  {
   "cell_type": "code",
   "execution_count": 2,
   "metadata": {
    "_cell_guid": "79c7e3d0-c299-4dcb-8224-4455121ee9b0",
    "_uuid": "d629ff2d2480ee46fbb7e2d37f6b5fab8052498a",
    "colab": {},
    "colab_type": "code",
    "id": "oyGfxL3eVp9-"
   },
   "outputs": [
    {
     "data": {
      "text/html": [
       "<div>\n",
       "<style scoped>\n",
       "    .dataframe tbody tr th:only-of-type {\n",
       "        vertical-align: middle;\n",
       "    }\n",
       "\n",
       "    .dataframe tbody tr th {\n",
       "        vertical-align: top;\n",
       "    }\n",
       "\n",
       "    .dataframe thead th {\n",
       "        text-align: right;\n",
       "    }\n",
       "</style>\n",
       "<table border=\"1\" class=\"dataframe\">\n",
       "  <thead>\n",
       "    <tr style=\"text-align: right;\">\n",
       "      <th></th>\n",
       "      <th>imdb_id</th>\n",
       "      <th>budget</th>\n",
       "      <th>revenue</th>\n",
       "      <th>original_title</th>\n",
       "      <th>cast</th>\n",
       "      <th>director</th>\n",
       "      <th>tagline</th>\n",
       "      <th>overview</th>\n",
       "      <th>runtime</th>\n",
       "      <th>genres</th>\n",
       "      <th>production_companies</th>\n",
       "      <th>release_date</th>\n",
       "      <th>vote_average</th>\n",
       "      <th>release_year</th>\n",
       "    </tr>\n",
       "  </thead>\n",
       "  <tbody>\n",
       "    <tr>\n",
       "      <th>1008</th>\n",
       "      <td>tt1482459</td>\n",
       "      <td>70000000</td>\n",
       "      <td>348840316</td>\n",
       "      <td>The Lorax</td>\n",
       "      <td>Zac Efron|Danny DeVito|Taylor Swift|Ed Helms|R...</td>\n",
       "      <td>Chris Renaud|Kyle Balda</td>\n",
       "      <td>Meet The Original Force Of Nature</td>\n",
       "      <td>A 12-year-old boy searches for the one thing t...</td>\n",
       "      <td>86</td>\n",
       "      <td>Animation|Family</td>\n",
       "      <td>Universal Pictures|Illumination Entertainment</td>\n",
       "      <td>3/1/2012</td>\n",
       "      <td>6.3</td>\n",
       "      <td>2012</td>\n",
       "    </tr>\n",
       "    <tr>\n",
       "      <th>1487</th>\n",
       "      <td>tt0405676</td>\n",
       "      <td>55000000</td>\n",
       "      <td>9450897</td>\n",
       "      <td>All the King's Men</td>\n",
       "      <td>Sean Penn|Jude Law|Kate Winslet|James Gandolfi...</td>\n",
       "      <td>Steven Zaillian</td>\n",
       "      <td>Some people will do anything to gain power. So...</td>\n",
       "      <td>The story of an idealist's rise to power in th...</td>\n",
       "      <td>125</td>\n",
       "      <td>Drama|Thriller</td>\n",
       "      <td>Columbia Pictures Corporation|Rising Star|Rela...</td>\n",
       "      <td>9/10/2006</td>\n",
       "      <td>5.4</td>\n",
       "      <td>2006</td>\n",
       "    </tr>\n",
       "    <tr>\n",
       "      <th>236</th>\n",
       "      <td>tt2319580</td>\n",
       "      <td>12700000</td>\n",
       "      <td>3430018</td>\n",
       "      <td>The Grand Seduction</td>\n",
       "      <td>Brendan Gleeson|Taylor Kitsch|Gordon Pinsent|L...</td>\n",
       "      <td>Don McKellar</td>\n",
       "      <td>The small town of Tickle Cove needed a doctor....</td>\n",
       "      <td>A small fishing village must procure a local d...</td>\n",
       "      <td>112</td>\n",
       "      <td>Comedy</td>\n",
       "      <td>Max Films Productions|Morag Loves Company</td>\n",
       "      <td>5/30/2014</td>\n",
       "      <td>6.7</td>\n",
       "      <td>2014</td>\n",
       "    </tr>\n",
       "    <tr>\n",
       "      <th>1187</th>\n",
       "      <td>tt0770828</td>\n",
       "      <td>225000000</td>\n",
       "      <td>662845518</td>\n",
       "      <td>Man of Steel</td>\n",
       "      <td>Henry Cavill|Amy Adams|Michael Shannon|Diane L...</td>\n",
       "      <td>Zack Snyder</td>\n",
       "      <td>You will believe that a man can fly.</td>\n",
       "      <td>A young boy learns that he has extraordinary p...</td>\n",
       "      <td>143</td>\n",
       "      <td>Action|Adventure|Fantasy|Science Fiction</td>\n",
       "      <td>Legendary Pictures|Warner Bros.|DC Entertainme...</td>\n",
       "      <td>6/12/2013</td>\n",
       "      <td>6.5</td>\n",
       "      <td>2013</td>\n",
       "    </tr>\n",
       "    <tr>\n",
       "      <th>97</th>\n",
       "      <td>tt2279373</td>\n",
       "      <td>74000000</td>\n",
       "      <td>311594032</td>\n",
       "      <td>The SpongeBob Movie: Sponge Out of Water</td>\n",
       "      <td>Tom Kenny|Bill Fagerbakke|Rodger Bumpass|Clanc...</td>\n",
       "      <td>Paul Tibbitt</td>\n",
       "      <td>He's leaving his world behind.</td>\n",
       "      <td>Burger Beard is a pirate who is in search of t...</td>\n",
       "      <td>93</td>\n",
       "      <td>Family|Animation</td>\n",
       "      <td>Paramount Pictures|Nickelodeon Movies|Nickelod...</td>\n",
       "      <td>2/5/2015</td>\n",
       "      <td>5.7</td>\n",
       "      <td>2015</td>\n",
       "    </tr>\n",
       "  </tbody>\n",
       "</table>\n",
       "</div>"
      ],
      "text/plain": [
       "        imdb_id     budget    revenue  \\\n",
       "1008  tt1482459   70000000  348840316   \n",
       "1487  tt0405676   55000000    9450897   \n",
       "236   tt2319580   12700000    3430018   \n",
       "1187  tt0770828  225000000  662845518   \n",
       "97    tt2279373   74000000  311594032   \n",
       "\n",
       "                                original_title  \\\n",
       "1008                                 The Lorax   \n",
       "1487                        All the King's Men   \n",
       "236                        The Grand Seduction   \n",
       "1187                              Man of Steel   \n",
       "97    The SpongeBob Movie: Sponge Out of Water   \n",
       "\n",
       "                                                   cast  \\\n",
       "1008  Zac Efron|Danny DeVito|Taylor Swift|Ed Helms|R...   \n",
       "1487  Sean Penn|Jude Law|Kate Winslet|James Gandolfi...   \n",
       "236   Brendan Gleeson|Taylor Kitsch|Gordon Pinsent|L...   \n",
       "1187  Henry Cavill|Amy Adams|Michael Shannon|Diane L...   \n",
       "97    Tom Kenny|Bill Fagerbakke|Rodger Bumpass|Clanc...   \n",
       "\n",
       "                     director  \\\n",
       "1008  Chris Renaud|Kyle Balda   \n",
       "1487          Steven Zaillian   \n",
       "236              Don McKellar   \n",
       "1187              Zack Snyder   \n",
       "97               Paul Tibbitt   \n",
       "\n",
       "                                                tagline  \\\n",
       "1008                  Meet The Original Force Of Nature   \n",
       "1487  Some people will do anything to gain power. So...   \n",
       "236   The small town of Tickle Cove needed a doctor....   \n",
       "1187               You will believe that a man can fly.   \n",
       "97                       He's leaving his world behind.   \n",
       "\n",
       "                                               overview  runtime  \\\n",
       "1008  A 12-year-old boy searches for the one thing t...       86   \n",
       "1487  The story of an idealist's rise to power in th...      125   \n",
       "236   A small fishing village must procure a local d...      112   \n",
       "1187  A young boy learns that he has extraordinary p...      143   \n",
       "97    Burger Beard is a pirate who is in search of t...       93   \n",
       "\n",
       "                                        genres  \\\n",
       "1008                          Animation|Family   \n",
       "1487                            Drama|Thriller   \n",
       "236                                     Comedy   \n",
       "1187  Action|Adventure|Fantasy|Science Fiction   \n",
       "97                            Family|Animation   \n",
       "\n",
       "                                   production_companies release_date  \\\n",
       "1008      Universal Pictures|Illumination Entertainment     3/1/2012   \n",
       "1487  Columbia Pictures Corporation|Rising Star|Rela...    9/10/2006   \n",
       "236           Max Films Productions|Morag Loves Company    5/30/2014   \n",
       "1187  Legendary Pictures|Warner Bros.|DC Entertainme...    6/12/2013   \n",
       "97    Paramount Pictures|Nickelodeon Movies|Nickelod...     2/5/2015   \n",
       "\n",
       "      vote_average  release_year  \n",
       "1008           6.3          2012  \n",
       "1487           5.4          2006  \n",
       "236            6.7          2014  \n",
       "1187           6.5          2013  \n",
       "97             5.7          2015  "
      ]
     },
     "execution_count": 2,
     "metadata": {},
     "output_type": "execute_result"
    }
   ],
   "source": [
    "data = pd.read_csv('movie_bd_v5.csv')\n",
    "data.sample(5)"
   ]
  },
  {
   "cell_type": "code",
   "execution_count": 3,
   "metadata": {
    "colab": {},
    "colab_type": "code",
    "id": "CoYUnagMVp-C"
   },
   "outputs": [
    {
     "data": {
      "text/html": [
       "<div>\n",
       "<style scoped>\n",
       "    .dataframe tbody tr th:only-of-type {\n",
       "        vertical-align: middle;\n",
       "    }\n",
       "\n",
       "    .dataframe tbody tr th {\n",
       "        vertical-align: top;\n",
       "    }\n",
       "\n",
       "    .dataframe thead th {\n",
       "        text-align: right;\n",
       "    }\n",
       "</style>\n",
       "<table border=\"1\" class=\"dataframe\">\n",
       "  <thead>\n",
       "    <tr style=\"text-align: right;\">\n",
       "      <th></th>\n",
       "      <th>budget</th>\n",
       "      <th>revenue</th>\n",
       "      <th>runtime</th>\n",
       "      <th>vote_average</th>\n",
       "      <th>release_year</th>\n",
       "    </tr>\n",
       "  </thead>\n",
       "  <tbody>\n",
       "    <tr>\n",
       "      <th>count</th>\n",
       "      <td>1.889000e+03</td>\n",
       "      <td>1.889000e+03</td>\n",
       "      <td>1889.000000</td>\n",
       "      <td>1889.000000</td>\n",
       "      <td>1889.000000</td>\n",
       "    </tr>\n",
       "    <tr>\n",
       "      <th>mean</th>\n",
       "      <td>5.431083e+07</td>\n",
       "      <td>1.553653e+08</td>\n",
       "      <td>109.658549</td>\n",
       "      <td>6.140762</td>\n",
       "      <td>2007.860773</td>\n",
       "    </tr>\n",
       "    <tr>\n",
       "      <th>std</th>\n",
       "      <td>4.858721e+07</td>\n",
       "      <td>2.146698e+08</td>\n",
       "      <td>18.017041</td>\n",
       "      <td>0.764763</td>\n",
       "      <td>4.468841</td>\n",
       "    </tr>\n",
       "    <tr>\n",
       "      <th>min</th>\n",
       "      <td>5.000000e+06</td>\n",
       "      <td>2.033165e+06</td>\n",
       "      <td>63.000000</td>\n",
       "      <td>3.300000</td>\n",
       "      <td>2000.000000</td>\n",
       "    </tr>\n",
       "    <tr>\n",
       "      <th>25%</th>\n",
       "      <td>2.000000e+07</td>\n",
       "      <td>3.456058e+07</td>\n",
       "      <td>97.000000</td>\n",
       "      <td>5.600000</td>\n",
       "      <td>2004.000000</td>\n",
       "    </tr>\n",
       "    <tr>\n",
       "      <th>50%</th>\n",
       "      <td>3.800000e+07</td>\n",
       "      <td>8.361541e+07</td>\n",
       "      <td>107.000000</td>\n",
       "      <td>6.100000</td>\n",
       "      <td>2008.000000</td>\n",
       "    </tr>\n",
       "    <tr>\n",
       "      <th>75%</th>\n",
       "      <td>7.200000e+07</td>\n",
       "      <td>1.782626e+08</td>\n",
       "      <td>120.000000</td>\n",
       "      <td>6.600000</td>\n",
       "      <td>2012.000000</td>\n",
       "    </tr>\n",
       "    <tr>\n",
       "      <th>max</th>\n",
       "      <td>3.800000e+08</td>\n",
       "      <td>2.781506e+09</td>\n",
       "      <td>214.000000</td>\n",
       "      <td>8.100000</td>\n",
       "      <td>2015.000000</td>\n",
       "    </tr>\n",
       "  </tbody>\n",
       "</table>\n",
       "</div>"
      ],
      "text/plain": [
       "             budget       revenue      runtime  vote_average  release_year\n",
       "count  1.889000e+03  1.889000e+03  1889.000000   1889.000000   1889.000000\n",
       "mean   5.431083e+07  1.553653e+08   109.658549      6.140762   2007.860773\n",
       "std    4.858721e+07  2.146698e+08    18.017041      0.764763      4.468841\n",
       "min    5.000000e+06  2.033165e+06    63.000000      3.300000   2000.000000\n",
       "25%    2.000000e+07  3.456058e+07    97.000000      5.600000   2004.000000\n",
       "50%    3.800000e+07  8.361541e+07   107.000000      6.100000   2008.000000\n",
       "75%    7.200000e+07  1.782626e+08   120.000000      6.600000   2012.000000\n",
       "max    3.800000e+08  2.781506e+09   214.000000      8.100000   2015.000000"
      ]
     },
     "execution_count": 3,
     "metadata": {},
     "output_type": "execute_result"
    }
   ],
   "source": [
    "data.describe()"
   ]
  },
  {
   "cell_type": "markdown",
   "metadata": {
    "colab_type": "text",
    "id": "DTIt7ezGVp-G"
   },
   "source": [
    "# Предобработка"
   ]
  },
  {
   "cell_type": "code",
   "execution_count": 4,
   "metadata": {
    "colab": {},
    "colab_type": "code",
    "id": "jNb40DwKVp-H"
   },
   "outputs": [],
   "source": [
    "answers = {} # создадим словарь для ответов\n",
    "\n",
    "# предобработки колонок:\n",
    "# «прибылью» или «убытками» понимается разность между \n",
    "# сборами и бюджетом фильма (прибыль = сборы - бюджет) \n",
    "data['profit'] = data['revenue'] - data['budget']\n",
    "def len_overview(overview):\n",
    "    return len(overview)\n",
    "#the time given in the dataset is in string format.\n",
    "#So we need to change this in datetime format\n",
    "# ну если необходимо, то переводим колонку release_date из формата string\n",
    "# в datetime format\n",
    "data.release_date = data.release_date.apply(lambda x: datetime.strptime(x, '%m/%d/%Y'))"
   ]
  },
  {
   "cell_type": "markdown",
   "metadata": {
    "colab_type": "text",
    "id": "YxZaH-nPVp-L"
   },
   "source": [
    "# 1. У какого фильма из списка самый большой бюджет?"
   ]
  },
  {
   "cell_type": "code",
   "execution_count": 5,
   "metadata": {
    "colab": {},
    "colab_type": "code",
    "id": "dZwb3m28Vp-S"
   },
   "outputs": [
    {
     "name": "stdout",
     "output_type": "stream",
     "text": [
      "Самый большой бюджет у фильма Pirates of the Caribbean: On Stranger Tides (tt1298650)\n"
     ]
    }
   ],
   "source": [
    "# группируем нужные нам данные через функцию groupby и ишем максимальное\n",
    "# значение бюджета и сортируем данные по убыванию и смотрим самую\n",
    "# верхнию строку\n",
    "title_of_film = data.groupby(['original_title'])['budget'].max(\n",
    "    ).sort_values(ascending=False).index[0]\n",
    "id_of_film = data.groupby(['imdb_id'])['budget'].max(\n",
    "    ).sort_values(ascending=False).index[0]\n",
    "print(f'Самый большой бюджет у фильма {title_of_film} ({id_of_film})')"
   ]
  },
  {
   "cell_type": "code",
   "execution_count": 6,
   "metadata": {},
   "outputs": [],
   "source": [
    "# +\n",
    "answers['1'] = title_of_film"
   ]
  },
  {
   "cell_type": "code",
   "execution_count": 7,
   "metadata": {
    "colab": {},
    "colab_type": "code",
    "id": "OGaoQI7rVp-X"
   },
   "outputs": [
    {
     "data": {
      "text/plain": [
       "'Pirates of the Caribbean: On Stranger Tides'"
      ]
     },
     "execution_count": 7,
     "metadata": {},
     "output_type": "execute_result"
    }
   ],
   "source": [
    "# еще можно получить информацию через фильтр и посмотреть описание строки\n",
    "data[data.budget == data.budget.max()].describe(include \n",
    "                                = ['object']).original_title.top"
   ]
  },
  {
   "cell_type": "markdown",
   "metadata": {
    "colab_type": "text",
    "id": "FNRbbI3vVp-c"
   },
   "source": [
    "# 2. Какой из фильмов самый длительный (в минутах)?"
   ]
  },
  {
   "cell_type": "code",
   "execution_count": 8,
   "metadata": {
    "colab": {},
    "colab_type": "code",
    "id": "ot-VX2XrVp-g"
   },
   "outputs": [
    {
     "name": "stdout",
     "output_type": "stream",
     "text": [
      "Самый длинный фильм из списка Gods and Generals\n",
      "Его продолжительность более 3.6 часов\n"
     ]
    }
   ],
   "source": [
    "long_films = data[data.runtime == data.runtime.max()].describe(\n",
    "    include = ['object']).original_title.top\n",
    "print(f'Самый длинный фильм из списка {long_films}')\n",
    "print(f'Его продолжительность более {round(214/60, 1)} часов')"
   ]
  },
  {
   "cell_type": "code",
   "execution_count": 9,
   "metadata": {},
   "outputs": [],
   "source": [
    "# +\n",
    "answers['2'] = long_films"
   ]
  },
  {
   "cell_type": "markdown",
   "metadata": {
    "colab_type": "text",
    "id": "bapLlpW8Vp-k"
   },
   "source": [
    "# 3. Какой из фильмов самый короткий (в минутах)?\n",
    "\n",
    "\n",
    "\n"
   ]
  },
  {
   "cell_type": "code",
   "execution_count": 10,
   "metadata": {
    "colab": {},
    "colab_type": "code",
    "id": "YBxaSHuAVp-l"
   },
   "outputs": [
    {
     "name": "stdout",
     "output_type": "stream",
     "text": [
      "Самый короткий фильм Winnie the Pooh\n"
     ]
    }
   ],
   "source": [
    "short_film = data[data.runtime == data.runtime.min()].describe(\n",
    "    include = ['object']).original_title.top\n",
    "print(f'Самый короткий фильм {short_film}')"
   ]
  },
  {
   "cell_type": "code",
   "execution_count": 11,
   "metadata": {},
   "outputs": [],
   "source": [
    "# +\n",
    "answers['3'] = short_film"
   ]
  },
  {
   "cell_type": "markdown",
   "metadata": {
    "colab_type": "text",
    "id": "TfQbxbfNVp-p"
   },
   "source": [
    "# 4. Какова средняя длительность фильмов?\n"
   ]
  },
  {
   "cell_type": "code",
   "execution_count": 12,
   "metadata": {
    "colab": {},
    "colab_type": "code",
    "id": "5K6dKZYVVp-q"
   },
   "outputs": [
    {
     "name": "stdout",
     "output_type": "stream",
     "text": [
      "Средняя продолжительность фильмов в списке 110 минут\n"
     ]
    }
   ],
   "source": [
    "# ищем среднее в колонке runtime и округляем\n",
    "mean_of_films = round(data.runtime.mean())\n",
    "print(f'Средняя продолжительность фильмов в списке {mean_of_films} минут')"
   ]
  },
  {
   "cell_type": "code",
   "execution_count": 13,
   "metadata": {},
   "outputs": [],
   "source": [
    "# +\n",
    "answers['4'] = mean_of_films"
   ]
  },
  {
   "cell_type": "markdown",
   "metadata": {
    "colab_type": "text",
    "id": "r5TvbnT_Vp-u"
   },
   "source": [
    "# 5. Каково медианное значение длительности фильмов? "
   ]
  },
  {
   "cell_type": "code",
   "execution_count": 14,
   "metadata": {
    "colab": {},
    "colab_type": "code",
    "id": "iBROplKnVp-v"
   },
   "outputs": [
    {
     "name": "stdout",
     "output_type": "stream",
     "text": [
      "Медианное значение фильмов 107 минут\n"
     ]
    }
   ],
   "source": [
    "# С помощью метода describe получаем нужную информацию и выводим на экран\n",
    "mediana_time = data.runtime.describe()\n",
    "print_med_time = round(mediana_time['50%'])\n",
    "print(f'Медианное значение фильмов {print_med_time} минут')"
   ]
  },
  {
   "cell_type": "code",
   "execution_count": 15,
   "metadata": {},
   "outputs": [],
   "source": [
    "# +\n",
    "answers['5'] = print_med_time"
   ]
  },
  {
   "cell_type": "markdown",
   "metadata": {
    "colab_type": "text",
    "id": "39P-deDSVp-y"
   },
   "source": [
    "# 6. Какой самый прибыльный фильм?"
   ]
  },
  {
   "cell_type": "code",
   "execution_count": 16,
   "metadata": {},
   "outputs": [
    {
     "name": "stdout",
     "output_type": "stream",
     "text": [
      "Самым прибыльным фильмом оказался Avatar\n",
      "Его прибыль составила более 2.5 миллиардов долларов\n"
     ]
    }
   ],
   "source": [
    "profit_of_film = data.groupby(['original_title'])['profit'].max(\n",
    "    ).sort_values(ascending=False).index[0]\n",
    "# достаем прибыль из таблицы\n",
    "pro = data.profit[data.profit == data.profit.max()].iloc[0]\n",
    "print(f'Самым прибыльным фильмом оказался {profit_of_film}')\n",
    "#  да корявенько сделал :)\n",
    "print(f'Его прибыль составила более {round(float(pro/1000000000), 1)} миллиардов долларов')"
   ]
  },
  {
   "cell_type": "code",
   "execution_count": 17,
   "metadata": {
    "colab": {},
    "colab_type": "code",
    "id": "UYZh4T9WVp-y"
   },
   "outputs": [
    {
     "data": {
      "text/plain": [
       "'Avatar'"
      ]
     },
     "execution_count": 17,
     "metadata": {},
     "output_type": "execute_result"
    }
   ],
   "source": [
    "# изобретем свой велосипед\n",
    "profit = data.revenue - data.budget\n",
    "p = profit[profit == profit.max()].index[0]\n",
    "data['original_title'][p]"
   ]
  },
  {
   "cell_type": "code",
   "execution_count": 18,
   "metadata": {},
   "outputs": [
    {
     "data": {
      "text/html": [
       "<div>\n",
       "<style scoped>\n",
       "    .dataframe tbody tr th:only-of-type {\n",
       "        vertical-align: middle;\n",
       "    }\n",
       "\n",
       "    .dataframe tbody tr th {\n",
       "        vertical-align: top;\n",
       "    }\n",
       "\n",
       "    .dataframe thead th {\n",
       "        text-align: right;\n",
       "    }\n",
       "</style>\n",
       "<table border=\"1\" class=\"dataframe\">\n",
       "  <thead>\n",
       "    <tr style=\"text-align: right;\">\n",
       "      <th></th>\n",
       "      <th>imdb_id</th>\n",
       "      <th>budget</th>\n",
       "      <th>revenue</th>\n",
       "      <th>original_title</th>\n",
       "      <th>cast</th>\n",
       "      <th>director</th>\n",
       "      <th>tagline</th>\n",
       "      <th>overview</th>\n",
       "      <th>runtime</th>\n",
       "      <th>genres</th>\n",
       "      <th>production_companies</th>\n",
       "      <th>release_date</th>\n",
       "      <th>vote_average</th>\n",
       "      <th>release_year</th>\n",
       "      <th>profit</th>\n",
       "    </tr>\n",
       "  </thead>\n",
       "  <tbody>\n",
       "    <tr>\n",
       "      <th>239</th>\n",
       "      <td>tt0499549</td>\n",
       "      <td>237000000</td>\n",
       "      <td>2781505847</td>\n",
       "      <td>Avatar</td>\n",
       "      <td>Sam Worthington|Zoe Saldana|Sigourney Weaver|S...</td>\n",
       "      <td>James Cameron</td>\n",
       "      <td>Enter the World of Pandora.</td>\n",
       "      <td>In the 22nd century, a paraplegic Marine is di...</td>\n",
       "      <td>162</td>\n",
       "      <td>Action|Adventure|Fantasy|Science Fiction</td>\n",
       "      <td>Ingenious Film Partners|Twentieth Century Fox ...</td>\n",
       "      <td>2009-12-10</td>\n",
       "      <td>7.1</td>\n",
       "      <td>2009</td>\n",
       "      <td>2544505847</td>\n",
       "    </tr>\n",
       "  </tbody>\n",
       "</table>\n",
       "</div>"
      ],
      "text/plain": [
       "       imdb_id     budget     revenue original_title  \\\n",
       "239  tt0499549  237000000  2781505847         Avatar   \n",
       "\n",
       "                                                  cast       director  \\\n",
       "239  Sam Worthington|Zoe Saldana|Sigourney Weaver|S...  James Cameron   \n",
       "\n",
       "                         tagline  \\\n",
       "239  Enter the World of Pandora.   \n",
       "\n",
       "                                              overview  runtime  \\\n",
       "239  In the 22nd century, a paraplegic Marine is di...      162   \n",
       "\n",
       "                                       genres  \\\n",
       "239  Action|Adventure|Fantasy|Science Fiction   \n",
       "\n",
       "                                  production_companies release_date  \\\n",
       "239  Ingenious Film Partners|Twentieth Century Fox ...   2009-12-10   \n",
       "\n",
       "     vote_average  release_year      profit  \n",
       "239           7.1          2009  2544505847  "
      ]
     },
     "execution_count": 18,
     "metadata": {},
     "output_type": "execute_result"
    }
   ],
   "source": [
    "data[data.index == p]"
   ]
  },
  {
   "cell_type": "code",
   "execution_count": 19,
   "metadata": {},
   "outputs": [],
   "source": [
    "# +\n",
    "answers['6'] = profit_of_film"
   ]
  },
  {
   "cell_type": "markdown",
   "metadata": {
    "colab_type": "text",
    "id": "M99JmIX4Vp-2"
   },
   "source": [
    "# 7. Какой фильм самый убыточный? "
   ]
  },
  {
   "cell_type": "code",
   "execution_count": 20,
   "metadata": {
    "colab": {},
    "colab_type": "code",
    "id": "w-D2m4XPVp-3"
   },
   "outputs": [
    {
     "name": "stdout",
     "output_type": "stream",
     "text": [
      "Самым убыточным фильмо оказался The Lone Ranger\n"
     ]
    }
   ],
   "source": [
    "loss_of_film = data.groupby(['original_title'])['profit'].min(\n",
    "    ).sort_values().index[0]\n",
    "print(f'Самым убыточным фильмо оказался {loss_of_film}')"
   ]
  },
  {
   "cell_type": "code",
   "execution_count": 21,
   "metadata": {},
   "outputs": [],
   "source": [
    "# +\n",
    "answers['7'] = loss_of_film"
   ]
  },
  {
   "cell_type": "markdown",
   "metadata": {
    "colab_type": "text",
    "id": "wEOM5ERVVp-6"
   },
   "source": [
    "# 8. У скольких фильмов из датасета объем сборов оказался выше бюджета?"
   ]
  },
  {
   "cell_type": "code",
   "execution_count": 22,
   "metadata": {
    "colab": {},
    "colab_type": "code",
    "id": "y00_7HD6Vp-7"
   },
   "outputs": [
    {
     "name": "stdout",
     "output_type": "stream",
     "text": [
      "Эти 1478 фильмов отбили себя\n"
     ]
    }
   ],
   "source": [
    "# фильтруем список по условию, затем делаем подсчет\n",
    "loss = len(data[data.revenue > data.budget])\n",
    "print(f'Эти {loss} фильмов отбили себя')"
   ]
  },
  {
   "cell_type": "code",
   "execution_count": 23,
   "metadata": {},
   "outputs": [],
   "source": [
    "# +\n",
    "answers['8'] = loss"
   ]
  },
  {
   "cell_type": "markdown",
   "metadata": {
    "colab_type": "text",
    "id": "xhpspA9KVp_A"
   },
   "source": [
    "# 9. Какой фильм оказался самым кассовым в 2008 году?"
   ]
  },
  {
   "cell_type": "code",
   "execution_count": 24,
   "metadata": {
    "colab": {},
    "colab_type": "code",
    "id": "MoUyQr9RVp_B"
   },
   "outputs": [
    {
     "name": "stdout",
     "output_type": "stream",
     "text": [
      "Самым кассовым фильмом 2008 стал The Dark Knight\n",
      "Кстати при произношение название фильма можно перевести как Темная Ночь\n"
     ]
    }
   ],
   "source": [
    "# фильтруем датасет по году\n",
    "data_year = data[data.release_year == 2008]\n",
    "# фильтруем фильмы 2008 года по кассе\n",
    "top_2008 = data_year[data_year.revenue == data_year.revenue.max(\n",
    "                                    )].iloc[0]['original_title']\n",
    "# и кассу сорвал Нолан!\n",
    "print(f'Самым кассовым фильмом 2008 стал {top_2008}')\n",
    "print(f'Кстати при произношение название фильма можно перевести как Темная Ночь')"
   ]
  },
  {
   "cell_type": "code",
   "execution_count": 25,
   "metadata": {},
   "outputs": [],
   "source": [
    "# +\n",
    "answers['9'] = top_2008"
   ]
  },
  {
   "cell_type": "markdown",
   "metadata": {
    "colab_type": "text",
    "id": "Zi4hDKidVp_F"
   },
   "source": [
    "# 10. Самый убыточный фильм за период с 2012 по 2014 г. (включительно)?\n"
   ]
  },
  {
   "cell_type": "code",
   "execution_count": 26,
   "metadata": {
    "colab": {},
    "colab_type": "code",
    "id": "XqyRmufJVp_F"
   },
   "outputs": [
    {
     "data": {
      "text/plain": [
       "'The Lone Ranger'"
      ]
     },
     "execution_count": 26,
     "metadata": {},
     "output_type": "execute_result"
    }
   ],
   "source": [
    "# делаем фильтр по годам от и до\n",
    "data_year_range = data[(data.release_year >= 2012) \n",
    "                 & (data.release_year <= 2014)]\n",
    "# выбираем по столбц profit самый убыточный фильм\n",
    "loss_12_14 = data.groupby(['original_title'])['profit'].min(\n",
    "    ).sort_values().index[0]\n",
    "loss_12_14"
   ]
  },
  {
   "cell_type": "code",
   "execution_count": 27,
   "metadata": {},
   "outputs": [
    {
     "data": {
      "text/plain": [
       "1245   -165710090\n",
       "dtype: int64"
      ]
     },
     "execution_count": 27,
     "metadata": {},
     "output_type": "execute_result"
    }
   ],
   "source": [
    "# а еще я так могу\n",
    "profit_loss = data_year_range.revenue - data_year_range.budget\n",
    "profit_loss[profit_loss == profit_loss.min()]"
   ]
  },
  {
   "cell_type": "code",
   "execution_count": 28,
   "metadata": {},
   "outputs": [],
   "source": [
    "# и так могу\n",
    "loss_loss = profit_loss[profit_loss == profit_loss.min(\n",
    "        )].iloc[0]/1000000"
   ]
  },
  {
   "cell_type": "code",
   "execution_count": 29,
   "metadata": {},
   "outputs": [
    {
     "name": "stdout",
     "output_type": "stream",
     "text": [
      "Вот это поворот The Lone Ranger с убытками в -165.7 миллионов долларов\n"
     ]
    }
   ],
   "source": [
    "print(f'Вот это поворот {loss_12_14} с убытками в {round(loss_loss, 1)} миллионов долларов')"
   ]
  },
  {
   "cell_type": "code",
   "execution_count": 30,
   "metadata": {},
   "outputs": [],
   "source": [
    "# +\n",
    "answers['10'] = loss_12_14"
   ]
  },
  {
   "cell_type": "markdown",
   "metadata": {
    "colab_type": "text",
    "id": "EA7Sa9dkVp_I"
   },
   "source": [
    "# 11. Какого жанра фильмов больше всего?"
   ]
  },
  {
   "cell_type": "code",
   "execution_count": 31,
   "metadata": {
    "colab": {},
    "colab_type": "code",
    "id": "zsJAwJ8QVp_J"
   },
   "outputs": [],
   "source": [
    "# эту задачу тоже можно решать разными подходами, попробуй реализовать разные варианты\n",
    "# если будешь добавлять функцию - выноси ее в предобработку что в начале"
   ]
  },
  {
   "cell_type": "code",
   "execution_count": 32,
   "metadata": {},
   "outputs": [],
   "source": [
    "# копируем датасет\n",
    "data11 = data.copy()\n",
    "# подаем данные из колонки, как объект String и разбиваем\n",
    "# на массив строк с помощью ('|')(список в одной ячейки)\n",
    "data11['genres'] = data11.genres.str.split('|')\n",
    "# c помощью данной фун-ий разбиваем наш массив (список) строк\n",
    "# берет каждый элемент массива и преобразует в строку\n",
    "genre_top = data11.explode('genres')\n",
    "# Делаем выборку по столбцу и применяем функцию\n",
    "# функция value_counts() подсчитывает для каждого значения в серии \n",
    "# количество раз, которое это значение встречается\n",
    "genre = genre_top['genres'].value_counts().index[0]"
   ]
  },
  {
   "cell_type": "code",
   "execution_count": 33,
   "metadata": {},
   "outputs": [
    {
     "name": "stdout",
     "output_type": "stream",
     "text": [
      "Э я удивлен, что такой жанр, как Drama лидирует!\n"
     ]
    }
   ],
   "source": [
    "print(f'Э я удивлен, что такой жанр, как {genre} лидирует!')"
   ]
  },
  {
   "cell_type": "code",
   "execution_count": 34,
   "metadata": {},
   "outputs": [],
   "source": [
    "# +\n",
    "answers['11'] = genre"
   ]
  },
  {
   "cell_type": "code",
   "execution_count": 35,
   "metadata": {
    "colab": {},
    "colab_type": "code",
    "id": "otO3SbrSVp_N"
   },
   "outputs": [
    {
     "data": {
      "text/plain": [
       "[('Drama', 782)]"
      ]
     },
     "execution_count": 35,
     "metadata": {},
     "output_type": "execute_result"
    }
   ],
   "source": [
    "# можно сделать функцию, а можно и циклом\n",
    "# всякий цикл, который повторяется много раз, становится функцией,\n",
    "# но не всякая функция цикл\n",
    "# функция будет! но ниже :)\n",
    "# а можно и так\n",
    "\n",
    "# копируем датасет\n",
    "data111 = data.copy()\n",
    "# объявлем словарь\n",
    "a = {}\n",
    "# формируем список\n",
    "drama = data111.genres.str.split('|').sum()\n",
    "# с помощью счетчиков подсчитываем количество повторщихся элементов\n",
    "a = (Counter(drama))\n",
    "# функция возврашает  наиболее часто встречающихся элементы\n",
    "# в порядке убывания встречаемости.\n",
    "a.most_common(1)"
   ]
  },
  {
   "cell_type": "markdown",
   "metadata": {
    "colab_type": "text",
    "id": "T9_bPWpkVp_Q"
   },
   "source": [
    "# 12. Фильмы какого жанра чаще всего становятся прибыльными? "
   ]
  },
  {
   "cell_type": "code",
   "execution_count": 36,
   "metadata": {
    "colab": {},
    "colab_type": "code",
    "id": "Tmt8MaK1Vp_R"
   },
   "outputs": [
    {
     "name": "stdout",
     "output_type": "stream",
     "text": [
      "Кто все эти люди, которые ходят на Drama ?\n"
     ]
    }
   ],
   "source": [
    "data12=data.copy()\n",
    "data12['genres'] = data12.genres.str.split('|')\n",
    "profit_more = data12.explode('genres')\n",
    "profit_genre = profit_more[profit_more['profit'] \n",
    "                           > 0 ]['genres'].value_counts().index[0]\n",
    "print(f'Кто все эти люди, которые ходят на {profit_genre} ?')"
   ]
  },
  {
   "cell_type": "code",
   "execution_count": 37,
   "metadata": {},
   "outputs": [],
   "source": [
    "# +\n",
    "answers['12'] = profit_genre"
   ]
  },
  {
   "cell_type": "markdown",
   "metadata": {
    "colab_type": "text",
    "id": "0F23bgsDVp_U"
   },
   "source": [
    "# 13. У какого режиссера самые большие суммарные кассовые сборы?"
   ]
  },
  {
   "cell_type": "code",
   "execution_count": 38,
   "metadata": {
    "colab": {},
    "colab_type": "code",
    "id": "K6Z3J8ygVp_X"
   },
   "outputs": [],
   "source": [
    "data13 = data.copy()\n",
    "# разделяем режисеров в список в одной ячейки\n",
    "data13['director'] = data13.director.str.split('|')\n",
    "# разделяем режисеров из списка в отдельные строки\n",
    "director_profit=data13.explode('director')\n",
    "# формируем фильтры\n",
    "director = director_profit.groupby(['director'])['revenue'].sum(\n",
    "                        ).sort_values(ascending=False).index[0]"
   ]
  },
  {
   "cell_type": "code",
   "execution_count": 39,
   "metadata": {},
   "outputs": [],
   "source": [
    "revenue = director_profit.groupby(['director'])['revenue'].sum(\n",
    "                             ).sort_values(ascending=False).iloc[0]"
   ]
  },
  {
   "cell_type": "code",
   "execution_count": 40,
   "metadata": {},
   "outputs": [
    {
     "name": "stdout",
     "output_type": "stream",
     "text": [
      "Этот режисер Peter Jackson и у него кассовость на 6490593685 гринов\n"
     ]
    }
   ],
   "source": [
    "print(f'Этот режисер {director} и у него кассовость на {revenue} гринов')"
   ]
  },
  {
   "cell_type": "code",
   "execution_count": 41,
   "metadata": {},
   "outputs": [],
   "source": [
    "# +\n",
    "answers['13'] = director"
   ]
  },
  {
   "cell_type": "markdown",
   "metadata": {
    "colab_type": "text",
    "id": "PsYC9FgRVp_a"
   },
   "source": [
    "# 14. Какой режисер снял больше всего фильмов в стиле Action?"
   ]
  },
  {
   "cell_type": "code",
   "execution_count": 42,
   "metadata": {
    "colab": {},
    "colab_type": "code",
    "id": "wd2M-wHeVp_b"
   },
   "outputs": [],
   "source": [
    "data14 = data.copy()\n",
    "# разделяем жанры в список в одной ячейки\n",
    "data14['genres'] = data14.genres.str.split('|')\n",
    "# разделяем жанры из списка в отдельные строки\n",
    "data_films=data14.explode('genres')\n",
    "# разделяем режисеров в список в одной ячейки\n",
    "data_films['director'] = data_films.director.str.split('|')\n",
    "# разделяем режисеров из списка в отдельные строки\n",
    "director_genres = data_films.explode('director')\n",
    "# формируем фильтры\n",
    "director_of_Action = director_genres[director_genres['genres'] \n",
    "                == 'Action']['director'].value_counts()\n"
   ]
  },
  {
   "cell_type": "code",
   "execution_count": 43,
   "metadata": {},
   "outputs": [],
   "source": [
    "nameAction = director_of_Action.index[0]"
   ]
  },
  {
   "cell_type": "code",
   "execution_count": 44,
   "metadata": {},
   "outputs": [],
   "source": [
    "sumAction = director_of_Action.iloc[0]"
   ]
  },
  {
   "cell_type": "code",
   "execution_count": 45,
   "metadata": {},
   "outputs": [
    {
     "name": "stdout",
     "output_type": "stream",
     "text": [
      "Режисер специализирующийся на Action Robert Rodriguez, он снял целых 9 штук.\n"
     ]
    }
   ],
   "source": [
    "print(f'Режисер специализирующийся на Action {nameAction}, он снял целых {sumAction} штук.')"
   ]
  },
  {
   "cell_type": "code",
   "execution_count": 46,
   "metadata": {},
   "outputs": [],
   "source": [
    "# +\n",
    "answers['14'] = nameAction"
   ]
  },
  {
   "cell_type": "markdown",
   "metadata": {
    "colab_type": "text",
    "id": "PQ0KciD7Vp_f"
   },
   "source": [
    "# 15. Фильмы с каким актером принесли самые высокие кассовые сборы в 2012 году? "
   ]
  },
  {
   "cell_type": "code",
   "execution_count": 47,
   "metadata": {
    "colab": {},
    "colab_type": "code",
    "id": "aga62oeKVp_g"
   },
   "outputs": [
    {
     "name": "stdout",
     "output_type": "stream",
     "text": [
      "На Олимпе кассовости в этом году был Chris Hemsworth\n"
     ]
    }
   ],
   "source": [
    "data15 = data.copy()\n",
    "# разбиваем актеров\n",
    "data15['cast'] = data15.cast.str.split('|')\n",
    "data_cast = data15.explode('cast')\n",
    "# делаем срез по году\n",
    "cast_year_2012 = data_cast[data_cast['release_year'] == 2012]\n",
    "# фильтруем - группируем по актёрам и суммируем сборы, сортируем\n",
    "cast_2012 = cast_year_2012.groupby(['cast'])['revenue'].sum(\n",
    "    ).sort_values(ascending=False).index[0]\n",
    "print(f'На Олимпе кассовости в этом году был {cast_2012}')"
   ]
  },
  {
   "cell_type": "code",
   "execution_count": 48,
   "metadata": {},
   "outputs": [],
   "source": [
    "# +\n",
    "answers['15'] = cast_2012"
   ]
  },
  {
   "cell_type": "markdown",
   "metadata": {
    "colab_type": "text",
    "id": "mWHyyL7QVp_j"
   },
   "source": [
    "# 16. Какой актер снялся в большем количестве высокобюджетных фильмов?"
   ]
  },
  {
   "cell_type": "code",
   "execution_count": 49,
   "metadata": {
    "colab": {},
    "colab_type": "code",
    "id": "qQtmHKTFVp_k"
   },
   "outputs": [
    {
     "name": "stdout",
     "output_type": "stream",
     "text": [
      "Буду краток Matt Damon\n"
     ]
    }
   ],
   "source": [
    "# просто оставлю это здесь\n",
    "data16 = data.copy()\n",
    "data16['cast'] = data16.cast.str.split('|')\n",
    "data_cast = data16.explode('cast')\n",
    "actor = data_cast[data_cast['budget'] \n",
    "                > data_cast.budget.mean(\n",
    "                     )]['cast'].value_counts().index[0]\n",
    "print(f'Буду краток {actor}')"
   ]
  },
  {
   "cell_type": "code",
   "execution_count": 50,
   "metadata": {},
   "outputs": [],
   "source": [
    "# +\n",
    "answers['16'] = actor"
   ]
  },
  {
   "cell_type": "markdown",
   "metadata": {
    "colab_type": "text",
    "id": "NIh6AaW5Vp_n"
   },
   "source": [
    "# 17. В фильмах какого жанра больше всего снимался Nicolas Cage? "
   ]
  },
  {
   "cell_type": "code",
   "execution_count": 51,
   "metadata": {
    "colab": {},
    "colab_type": "code",
    "id": "H74SJDIBVp_n"
   },
   "outputs": [
    {
     "name": "stdout",
     "output_type": "stream",
     "text": [
      "Nicolas Cage любит Action!\n"
     ]
    }
   ],
   "source": [
    "# хм где то  уже видел данную структуру\n",
    "data17 = data.copy()\n",
    "data17['genres'] = data17.genres.str.split('|')\n",
    "film_genres=data17.explode('genres')\n",
    "film_genres['cast'] = film_genres.cast.str.split('|')\n",
    "film_Nicolas = film_genres.explode('cast')\n",
    "genre_Nicolas = film_Nicolas[film_Nicolas['cast'] \n",
    "             == 'Nicolas Cage']['genres'].value_counts().index[0]\n",
    "print(f'Nicolas Cage любит {genre_Nicolas}!')"
   ]
  },
  {
   "cell_type": "code",
   "execution_count": 52,
   "metadata": {},
   "outputs": [],
   "source": [
    "# +\n",
    "answers['17'] = genre_Nicolas"
   ]
  },
  {
   "cell_type": "markdown",
   "metadata": {
    "colab_type": "text",
    "id": "RqOmPRfWVp_q"
   },
   "source": [
    "# 18. Самый убыточный фильм от Paramount Pictures"
   ]
  },
  {
   "cell_type": "code",
   "execution_count": 53,
   "metadata": {
    "colab": {},
    "colab_type": "code",
    "id": "9E_B0Y96Vp_r"
   },
   "outputs": [
    {
     "name": "stdout",
     "output_type": "stream",
     "text": [
      "K-19: The Widowmaker, очередная клюква ?\n"
     ]
    }
   ],
   "source": [
    "# хм вроде все понятно ?\n",
    "data18 = data.copy()\n",
    "# надо было обозвать покороче столбцы\n",
    "data18['production_companies'] = data18.production_companies.str.split('|')\n",
    "film_PP = data18.explode('production_companies')\n",
    "data_PP = film_PP[film_PP.production_companies == 'Paramount Pictures']\n",
    "loss_PP = data_PP[data_PP.profit == data_PP.profit.min(\n",
    "        )].describe(include = ['object']).original_title.top\n",
    "print(f'{loss_PP}, очередная клюква ?')"
   ]
  },
  {
   "cell_type": "code",
   "execution_count": 54,
   "metadata": {},
   "outputs": [],
   "source": [
    "# +\n",
    "answers['18'] = loss_PP"
   ]
  },
  {
   "cell_type": "markdown",
   "metadata": {
    "colab_type": "text",
    "id": "vS8Ur6ddVp_u"
   },
   "source": [
    "# 19. Какой год стал самым успешным по суммарным кассовым сборам?"
   ]
  },
  {
   "cell_type": "code",
   "execution_count": 55,
   "metadata": {
    "colab": {},
    "colab_type": "code",
    "id": "Dnbt4GdIVp_v"
   },
   "outputs": [
    {
     "name": "stdout",
     "output_type": "stream",
     "text": [
      "2015 был отличным годом для кино!\n"
     ]
    }
   ],
   "source": [
    "# Да, да я помню про этот успешный год, и да мы работаем чтобы \n",
    "# попасть к вам в штат :) \n",
    "data19 = data.copy()\n",
    "# групируем, суммируем, сортируем\n",
    "win_year = data19.groupby(['release_year'])['revenue'].sum(\n",
    "    ).sort_values(ascending=False).index[0]\n",
    "# побеждаем\n",
    "print(f'{win_year} был отличным годом для кино!')"
   ]
  },
  {
   "cell_type": "code",
   "execution_count": 56,
   "metadata": {},
   "outputs": [],
   "source": [
    "# +\n",
    "answers['19'] = win_year"
   ]
  },
  {
   "cell_type": "markdown",
   "metadata": {
    "colab_type": "text",
    "id": "JAzJh4QAVp_z"
   },
   "source": [
    "# 20. Какой самый прибыльный год для студии Warner Bros?"
   ]
  },
  {
   "cell_type": "code",
   "execution_count": 57,
   "metadata": {
    "colab": {},
    "colab_type": "code",
    "id": "wgVu02DEVp_0"
   },
   "outputs": [
    {
     "name": "stdout",
     "output_type": "stream",
     "text": [
      "2014 просто год расцвета WB\n"
     ]
    }
   ],
   "source": [
    "data20 = data.copy()\n",
    "# надо было обозвать покороче столбцы\n",
    "data20['production_companies'] = data20.production_companies.str.split('|')\n",
    "company20 = data20.explode('production_companies')\n",
    "companyWB = company20[company20.production_companies.str.contains(\n",
    "    'Warner Bros', na = False)]\n",
    "year_WB = companyWB.groupby(['release_year'])['profit'].sum(\n",
    ").sort_values(ascending=False).index[0]\n",
    "print(f'{year_WB} просто год расцвета WB')"
   ]
  },
  {
   "cell_type": "code",
   "execution_count": 58,
   "metadata": {},
   "outputs": [],
   "source": [
    "# +\n",
    "answers['20'] = year_WB"
   ]
  },
  {
   "cell_type": "markdown",
   "metadata": {
    "colab_type": "text",
    "id": "8Im1S2HRVp_4"
   },
   "source": [
    "# 21. В каком месяце за все годы суммарно вышло больше всего фильмов?"
   ]
  },
  {
   "cell_type": "code",
   "execution_count": 59,
   "metadata": {
    "colab": {},
    "colab_type": "code",
    "id": "lev6TH7gVp_4"
   },
   "outputs": [
    {
     "name": "stdout",
     "output_type": "stream",
     "text": [
      "Самый плодотворный месяц - это September вышло целых 227 фильмов\n"
     ]
    }
   ],
   "source": [
    "data21 = data.copy()\n",
    "# так как у нас колонка release_date в datetime format\n",
    "# то воспользуемс функцией и переведем дату в месяцы\n",
    "data21.release_date = data21.release_date.apply(\n",
    "    lambda x: x.strftime('%B'))\n",
    "month = data21['release_date'].value_counts().index[0]\n",
    "month_number = data21['release_date'].value_counts().iloc[0]\n",
    "print(f'Самый плодотворный месяц - это {month} вышло целых {month_number} фильмов')"
   ]
  },
  {
   "cell_type": "code",
   "execution_count": 60,
   "metadata": {},
   "outputs": [],
   "source": [
    "# +\n",
    "answers['21'] = month"
   ]
  },
  {
   "cell_type": "markdown",
   "metadata": {
    "colab_type": "text",
    "id": "uAJsZ_NeVp_7"
   },
   "source": [
    "# 22. Сколько суммарно вышло фильмов летом? (за июнь, июль, август)"
   ]
  },
  {
   "cell_type": "code",
   "execution_count": 61,
   "metadata": {
    "colab": {},
    "colab_type": "code",
    "id": "Aa-hEREoVp_8"
   },
   "outputs": [
    {
     "name": "stdout",
     "output_type": "stream",
     "text": [
      "Лето прекрасная пора, все отдыхают даже киношники, всего вышло 450 фильмов\n"
     ]
    }
   ],
   "source": [
    "data22 = data.copy()\n",
    "# так как у нас колонка release_date в datetime format\n",
    "# формируем условие с помощью функций dt.month \n",
    "summer = data22[(data22['release_date'].dt.month \n",
    "                 > 5) & (data22['release_date'].dt.month < 9)]\n",
    "# подсчитываем количество уникальных значений\n",
    "# по колонке imdb_id\n",
    "film_summer = summer.imdb_id.nunique()\n",
    "print(f'Лето прекрасная пора, все отдыхают даже киношники, всего вышло {film_summer} фильмов')"
   ]
  },
  {
   "cell_type": "code",
   "execution_count": 62,
   "metadata": {},
   "outputs": [],
   "source": [
    "# +\n",
    "answers['22'] = film_summer"
   ]
  },
  {
   "cell_type": "markdown",
   "metadata": {
    "colab_type": "text",
    "id": "G94ppOY1VqAA"
   },
   "source": [
    "# 23. Для какого режиссера зима – самое продуктивное время года? "
   ]
  },
  {
   "cell_type": "code",
   "execution_count": 63,
   "metadata": {
    "colab": {},
    "colab_type": "code",
    "id": "RhNTsamuVqAB"
   },
   "outputs": [
    {
     "name": "stdout",
     "output_type": "stream",
     "text": [
      "Peter Jackson любит снимать в Новой Зеландий, наснимал он зимой целых 7 фильмов\n"
     ]
    }
   ],
   "source": [
    "# копируем датасет\n",
    "data23 = data.copy()\n",
    "# разделяем режисеров в список в одной ячейки\n",
    "data23['director'] = data23.director.str.split('|')\n",
    "# разделяем режисеров из списка в отдельные строки\n",
    "director = data23.explode('director')\n",
    "# переводим дату в месяцы\n",
    "director['release_date'] = director.release_date.apply(\n",
    "    lambda x: x.strftime('%B'))\n",
    "# формируем фильтр и ищем зимние месяцы в колонке\n",
    "director_winter = director.query(\n",
    "    'release_date in [\"January\", \"February\", \"December\"]')\n",
    "dir_product = director_winter['director'].value_counts().index[0]\n",
    "sum_film = director_winter['director'].value_counts().iloc[0]\n",
    "print(f'{dir_product} любит снимать в Новой Зеландий, наснимал он зимой целых {sum_film} фильмов')"
   ]
  },
  {
   "cell_type": "code",
   "execution_count": 64,
   "metadata": {},
   "outputs": [],
   "source": [
    "# +\n",
    "answers['23'] = dir_product"
   ]
  },
  {
   "cell_type": "markdown",
   "metadata": {
    "colab_type": "text",
    "id": "RBo0JVjVVqAF"
   },
   "source": [
    "# 24. Какая студия дает самые длинные названия своим фильмам по количеству символов?"
   ]
  },
  {
   "cell_type": "code",
   "execution_count": 65,
   "metadata": {
    "colab": {},
    "colab_type": "code",
    "id": "QRGS8L0iVqAG"
   },
   "outputs": [
    {
     "name": "stdout",
     "output_type": "stream",
     "text": [
      "Мне кажется названия у компаний Four By Two Productions за гранью добра и зла.\n"
     ]
    }
   ],
   "source": [
    "# копируем датасет\n",
    "data24 = data.copy()\n",
    "# разделяем студий в список в одной ячейки\n",
    "data24['production_companies'] = data24.production_companies.str.split('|')\n",
    "# разделяем студий из списка в отдельные строки\n",
    "company24 = data24.explode('production_companies')\n",
    "# c попощью фун-ий apply применяем lambda для каждого элемента\n",
    "# колонки\n",
    "# lambda подсчитывает кол-во символов в название фильма\n",
    "company24['title_symbol'] = company24.original_title.apply(\n",
    "    lambda x: len(x))\n",
    "# составляем сводную таблицу и вычисляем среднее кол-во символов\n",
    "# и сортируем по убыванию\n",
    "pivot_company24 = company24.pivot_table(values = 'title_symbol', \n",
    "    index = 'production_companies', aggfunc = 'mean').sort_values(\n",
    "                    by='title_symbol',ascending=False).index[0]\n",
    "print(f'Мне кажется названия у компаний {pivot_company24} за гранью добра и зла.')"
   ]
  },
  {
   "cell_type": "code",
   "execution_count": 66,
   "metadata": {},
   "outputs": [],
   "source": [
    "# +\n",
    "answers['24'] = pivot_company24"
   ]
  },
  {
   "cell_type": "markdown",
   "metadata": {
    "colab_type": "text",
    "id": "9G0hbvR7VqAK"
   },
   "source": [
    "# 25. Описание фильмов какой студии в среднем самые длинные по количеству слов?"
   ]
  },
  {
   "cell_type": "code",
   "execution_count": 67,
   "metadata": {
    "colab": {},
    "colab_type": "code",
    "id": "Ge2GsLNxVqAK"
   },
   "outputs": [
    {
     "name": "stdout",
     "output_type": "stream",
     "text": [
      "Midnight Picture Show лидер этого списка, возможно они как то свзаны с предыдущей компанией\n"
     ]
    }
   ],
   "source": [
    "# копируем датасет\n",
    "data25 = data.copy()\n",
    "# разделяем студий в список в одной ячейки\n",
    "data25['production_companies'] = data25.production_companies.str.split('|')\n",
    "# разделяем студий из списка в отдельные строки\n",
    "company25 = data25.explode('production_companies')\n",
    "# применяем функцию для подсчета символов в описаний\n",
    "company25['overview_symbol'] = company25.overview.apply(len_overview)\n",
    "# составляем сводную таблицу и вычисляем среднее кол-во символов\n",
    "# и сортируем по убыванию\n",
    "company25_pivot = company25.pivot_table(\n",
    "    ['overview_symbol'], ['production_companies'], aggfunc = 'mean'\n",
    "  ).sort_values(by='overview_symbol',ascending=False).index[0]\n",
    "print(f'{company25_pivot} лидер этого списка, возможно они как то свзаны с предыдущей компанией')"
   ]
  },
  {
   "cell_type": "code",
   "execution_count": 68,
   "metadata": {},
   "outputs": [],
   "source": [
    "# +\n",
    "answers['25'] = company25_pivot"
   ]
  },
  {
   "cell_type": "markdown",
   "metadata": {
    "colab_type": "text",
    "id": "FJ1AFt90VqAP"
   },
   "source": [
    "# 26. Какие фильмы входят в 1 процент лучших по рейтингу? "
   ]
  },
  {
   "cell_type": "code",
   "execution_count": 69,
   "metadata": {
    "colab": {},
    "colab_type": "code",
    "id": "8qmJVq4CVqAQ"
   },
   "outputs": [
    {
     "name": "stdout",
     "output_type": "stream",
     "text": [
      "В таблице ниже представленны top 1% фильмов                                      original_title  vote_average\n",
      "9                                        Inside Out           8.0\n",
      "34                                             Room           8.0\n",
      "118                                    Interstellar           8.0\n",
      "119                         Guardians of the Galaxy           7.9\n",
      "125                              The Imitation Game           8.0\n",
      "128                                       Gone Girl           7.9\n",
      "138                        The Grand Budapest Hotel           7.9\n",
      "370                                       Inception           7.9\n",
      "599                                 The Dark Knight           8.1\n",
      "872                                     The Pianist           7.9\n",
      "1081  The Lord of the Rings: The Return of the King           7.9\n",
      "1183                        The Wolf of Wall Street           7.9\n",
      "1191                               12 Years a Slave           7.9\n",
      "1800                                        Memento           7.9\n"
     ]
    }
   ],
   "source": [
    "# будем вычислть по vote_average\n",
    "# копируем датасет\n",
    "data26 = data.copy()\n",
    "# формируем отдельную таблицу, по интересующим нас колонкам\n",
    "title_vote = data26[['original_title', 'vote_average']]\n",
    "# с помощью функций quantile указываем точку которая нас интересует\n",
    "# и затем с помощью неравенства находим искомое\n",
    "vote1 = title_vote[title_vote['vote_average'] \n",
    "           > title_vote['vote_average'].quantile(q=0.99\n",
    "                )]\n",
    "print(f'В таблице ниже представленны top 1% фильмов {vote1}')"
   ]
  },
  {
   "cell_type": "code",
   "execution_count": 70,
   "metadata": {},
   "outputs": [],
   "source": [
    "# +\n",
    "answers['26'] = vote1"
   ]
  },
  {
   "cell_type": "markdown",
   "metadata": {
    "colab_type": "text",
    "id": "MdXsUXbCVqAV"
   },
   "source": [
    "# 27. Какие актеры чаще всего снимаются в одном фильме вместе?\n"
   ]
  },
  {
   "cell_type": "code",
   "execution_count": 71,
   "metadata": {
    "colab_type": "text",
    "id": "4ymnxEVoVqAW"
   },
   "outputs": [],
   "source": [
    "'''фун-ия combinations комбинирует отдельные элементы которые ей\n",
    " подаются (actor_two) и формирует из элементов значения (в данном \n",
    " случае двух (2)) в новом отрезке,\n",
    "                     комбинаций элементов не повторяются'''\n",
    "# копируем датасет\n",
    "data27 = data.copy()\n",
    "# инициируем счетчики\n",
    "actors_more = Counter()\n",
    "# запускаем цикл с помощью фун-ий range проходим построчно датасет\n",
    "for i in range(0, len(data27)):\n",
    "# формируем список в виде строки из актеров cast, \n",
    "# которые есть на текущей строке [i]\n",
    "# и раздел строку из списка, разделителем служит ('|')\n",
    "    actor_two = data27.cast[i].split('|')\n",
    "# создаем список (list) на основание информаций от combinations\n",
    "# в данном случай создаются пары из актеров\n",
    "# проходимся по нему (j)\n",
    "    for j in list(combinations(actor_two, 2)):\n",
    "# если текущей пары нет в счетчике, то заносим в счетчик\n",
    "# и открываем подсчет данной пары\n",
    "        if j not in actors_more:\n",
    "            actors_more[j] = 1\n",
    "# если данная пара присутствует в счетчики, то прибавлем +1\n",
    "# к текущему счетчику данной пары\n",
    "        else:\n",
    "            actors_more[j] += 1"
   ]
  },
  {
   "cell_type": "code",
   "execution_count": 72,
   "metadata": {},
   "outputs": [
    {
     "data": {
      "text/plain": [
       "[(('Daniel Radcliffe', 'Rupert Grint'), 8),\n",
       " (('Daniel Radcliffe', 'Emma Watson'), 8),\n",
       " (('Rupert Grint', 'Emma Watson'), 7)]"
      ]
     },
     "execution_count": 72,
     "metadata": {},
     "output_type": "execute_result"
    }
   ],
   "source": [
    "# most_common - функция возврашает наиболее часто встречающиеся\n",
    "# элементы в порядке убывания встречаемости.\n",
    "actors_more.most_common(3)"
   ]
  },
  {
   "cell_type": "code",
   "execution_count": 73,
   "metadata": {},
   "outputs": [],
   "source": [
    "# +\n",
    "answers['27'] = actors_more.most_common(3)"
   ]
  },
  {
   "cell_type": "markdown",
   "metadata": {
    "colab_type": "text",
    "id": "U0nONFnGVqAX"
   },
   "source": [
    "# Submission"
   ]
  },
  {
   "cell_type": "code",
   "execution_count": 74,
   "metadata": {
    "colab": {},
    "colab_type": "code",
    "id": "IfcaRO9-VqAX",
    "outputId": "0f132912-32bb-4196-c98c-abfbc4ad5a5f"
   },
   "outputs": [
    {
     "data": {
      "text/plain": [
       "{'1': 'Pirates of the Caribbean: On Stranger Tides',\n",
       " '2': 'Gods and Generals',\n",
       " '3': 'Winnie the Pooh',\n",
       " '4': 110,\n",
       " '5': 107,\n",
       " '6': 'Avatar',\n",
       " '7': 'The Lone Ranger',\n",
       " '8': 1478,\n",
       " '9': 'The Dark Knight',\n",
       " '10': 'The Lone Ranger',\n",
       " '11': 'Drama',\n",
       " '12': 'Drama',\n",
       " '13': 'Peter Jackson',\n",
       " '14': 'Robert Rodriguez',\n",
       " '15': 'Chris Hemsworth',\n",
       " '16': 'Matt Damon',\n",
       " '17': 'Action',\n",
       " '18': 'K-19: The Widowmaker',\n",
       " '19': 2015,\n",
       " '20': 2014,\n",
       " '21': 'September',\n",
       " '22': 450,\n",
       " '23': 'Peter Jackson',\n",
       " '24': 'Four By Two Productions',\n",
       " '25': 'Midnight Picture Show',\n",
       " '26':                                      original_title  vote_average\n",
       " 9                                        Inside Out           8.0\n",
       " 34                                             Room           8.0\n",
       " 118                                    Interstellar           8.0\n",
       " 119                         Guardians of the Galaxy           7.9\n",
       " 125                              The Imitation Game           8.0\n",
       " 128                                       Gone Girl           7.9\n",
       " 138                        The Grand Budapest Hotel           7.9\n",
       " 370                                       Inception           7.9\n",
       " 599                                 The Dark Knight           8.1\n",
       " 872                                     The Pianist           7.9\n",
       " 1081  The Lord of the Rings: The Return of the King           7.9\n",
       " 1183                        The Wolf of Wall Street           7.9\n",
       " 1191                               12 Years a Slave           7.9\n",
       " 1800                                        Memento           7.9,\n",
       " '27': [(('Daniel Radcliffe', 'Rupert Grint'), 8),\n",
       "  (('Daniel Radcliffe', 'Emma Watson'), 8),\n",
       "  (('Rupert Grint', 'Emma Watson'), 7)]}"
      ]
     },
     "execution_count": 74,
     "metadata": {},
     "output_type": "execute_result"
    }
   ],
   "source": [
    "# в конце можно посмотреть свои ответы к каждому вопросу\n",
    "answers"
   ]
  },
  {
   "cell_type": "code",
   "execution_count": 75,
   "metadata": {
    "colab": {},
    "colab_type": "code",
    "id": "SiRmHPl8VqAd"
   },
   "outputs": [
    {
     "data": {
      "text/plain": [
       "27"
      ]
     },
     "execution_count": 75,
     "metadata": {},
     "output_type": "execute_result"
    }
   ],
   "source": [
    "# и убедиться что ни чего не пропустил)\n",
    "len(answers)"
   ]
  }
 ],
 "metadata": {
  "colab": {
   "name": "Copy of [SF-DST] Movies IMBD v4.1 TEMPLATE.ipynb",
   "provenance": []
  },
  "kernelspec": {
   "display_name": "Python 3",
   "language": "python",
   "name": "python3"
  },
  "language_info": {
   "codemirror_mode": {
    "name": "ipython",
    "version": 3
   },
   "file_extension": ".py",
   "mimetype": "text/x-python",
   "name": "python",
   "nbconvert_exporter": "python",
   "pygments_lexer": "ipython3",
   "version": "3.8.5"
  }
 },
 "nbformat": 4,
 "nbformat_minor": 1
}
